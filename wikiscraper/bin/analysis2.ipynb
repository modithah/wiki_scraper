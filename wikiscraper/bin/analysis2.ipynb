{
 "cells": [
  {
   "cell_type": "code",
   "execution_count": 1,
   "id": "initial_id",
   "metadata": {
    "collapsed": true,
    "ExecuteTime": {
     "end_time": "2023-12-12T15:58:10.652275Z",
     "start_time": "2023-12-12T15:58:10.006570Z"
    }
   },
   "outputs": [],
   "source": [
    "import pandas as pd"
   ]
  },
  {
   "cell_type": "code",
   "execution_count": 8,
   "outputs": [],
   "source": [
    "lego_df = pd.read_json('../data/Lego.json')\n",
    "lego_sw_df = pd.read_json('../data/Lego Star Wars.json')\n",
    "barbie_df = pd.read_json('../data/Barbie.json')"
   ],
   "metadata": {
    "collapsed": false,
    "ExecuteTime": {
     "end_time": "2023-12-12T16:04:19.337278Z",
     "start_time": "2023-12-12T16:04:19.190207Z"
    }
   },
   "id": "f4478e75d6b44edf"
  },
  {
   "cell_type": "code",
   "execution_count": 18,
   "outputs": [],
   "source": [
    "unique_lego_users = lego_df['user_id'].unique()\n",
    "unique_lego_sw_users = lego_sw_df['user_id'].unique()\n",
    "unique_barbie_users = barbie_df['user_id'].unique()"
   ],
   "metadata": {
    "collapsed": false,
    "ExecuteTime": {
     "end_time": "2023-12-12T16:11:18.535799Z",
     "start_time": "2023-12-12T16:11:18.514827Z"
    }
   },
   "id": "66c4a3f6edef214b"
  },
  {
   "cell_type": "code",
   "execution_count": 20,
   "outputs": [],
   "source": [
    "lego_barbie_intersection = set(unique_lego_users).intersection(set(unique_barbie_users))\n",
    "lego_sw_barbie_intersection = set(unique_lego_sw_users).intersection(set(unique_barbie_users))"
   ],
   "metadata": {
    "collapsed": false,
    "ExecuteTime": {
     "end_time": "2023-12-12T16:13:02.914505Z",
     "start_time": "2023-12-12T16:13:02.904423Z"
    }
   },
   "id": "39da6836e301f89b"
  },
  {
   "cell_type": "code",
   "execution_count": 21,
   "outputs": [],
   "source": [
    "all_intersection = lego_barbie_intersection.intersection(lego_sw_barbie_intersection)"
   ],
   "metadata": {
    "collapsed": false,
    "ExecuteTime": {
     "end_time": "2023-12-12T16:13:03.554675Z",
     "start_time": "2023-12-12T16:13:03.541249Z"
    }
   },
   "id": "4f7f6a4d1252d996"
  },
  {
   "cell_type": "code",
   "execution_count": 22,
   "outputs": [
    {
     "data": {
      "text/plain": "{118722,\n 203434,\n 433328,\n 1004750,\n 1392310,\n 1574574,\n 1808194,\n 1879647,\n 2304267,\n 2372780,\n 3035831,\n 4851336,\n 4928500,\n 5718152,\n 6163802,\n 6569922,\n 7320905,\n 7328338,\n 7611264,\n 7852030,\n 7903804,\n 9021902,\n 11308236,\n 12406635,\n 12683541,\n 15996738,\n 18872885,\n 20483999,\n 25046916,\n 27015025,\n 27823944,\n 28903366,\n 31691822,\n 44120587}"
     },
     "execution_count": 22,
     "metadata": {},
     "output_type": "execute_result"
    }
   ],
   "source": [
    "all_intersection"
   ],
   "metadata": {
    "collapsed": false,
    "ExecuteTime": {
     "end_time": "2023-12-12T16:13:07.871938Z",
     "start_time": "2023-12-12T16:13:07.855590Z"
    }
   },
   "id": "2a4380a2f6703bf3"
  },
  {
   "cell_type": "code",
   "execution_count": null,
   "outputs": [],
   "source": [],
   "metadata": {
    "collapsed": false
   },
   "id": "ae0107d9f4b1ed0d"
  }
 ],
 "metadata": {
  "kernelspec": {
   "display_name": "Python 3",
   "language": "python",
   "name": "python3"
  },
  "language_info": {
   "codemirror_mode": {
    "name": "ipython",
    "version": 2
   },
   "file_extension": ".py",
   "mimetype": "text/x-python",
   "name": "python",
   "nbconvert_exporter": "python",
   "pygments_lexer": "ipython2",
   "version": "2.7.6"
  }
 },
 "nbformat": 4,
 "nbformat_minor": 5
}
