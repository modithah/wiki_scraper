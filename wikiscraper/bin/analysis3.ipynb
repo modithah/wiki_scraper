{
 "cells": [
  {
   "cell_type": "code",
   "execution_count": 1,
   "metadata": {
    "ExecuteTime": {
     "end_time": "2023-12-13T22:19:25.062776Z",
     "start_time": "2023-12-13T22:19:24.075023Z"
    }
   },
   "outputs": [],
   "source": [
    "import numpy as np\n",
    "import pandas as pd\n",
    "import itertools"
   ]
  },
  {
   "cell_type": "code",
   "execution_count": 3,
   "metadata": {
    "ExecuteTime": {
     "end_time": "2023-12-13T22:19:58.363750Z",
     "start_time": "2023-12-13T22:19:58.271691Z"
    }
   },
   "outputs": [],
   "source": [
    "main_page = pd.read_json(\"../data/Lego.json\")"
   ]
  },
  {
   "cell_type": "code",
   "execution_count": 5,
   "metadata": {
    "ExecuteTime": {
     "end_time": "2023-12-13T22:20:29.255515Z",
     "start_time": "2023-12-13T22:20:29.224819Z"
    }
   },
   "outputs": [
    {
     "data": {
      "text/plain": "Index(['userid', 'name', 'editcount', 'registration', 'groups', 'emailable',\n       'gender', 'centralids', 'attachedlocal', 'blockid', 'blockedby',\n       'blockedbyid', 'blockreason', 'blockedtimestamp', 'blockexpiry',\n       'blockpartial', 'blocknocreate', 'blockanononly', 'blockemail',\n       'blockowntalk', 'blockedtimestampformatted'],\n      dtype='object')"
     },
     "execution_count": 5,
     "metadata": {},
     "output_type": "execute_result"
    }
   ],
   "source": [
    "contributors = pd.read_json(\"../data/Lego_contributors.json\")\n",
    "contributors.columns"
   ]
  },
  {
   "cell_type": "code",
   "execution_count": 6,
   "metadata": {
    "ExecuteTime": {
     "end_time": "2023-12-13T22:20:35.937100Z",
     "start_time": "2023-12-13T22:20:35.877166Z"
    }
   },
   "outputs": [
    {
     "data": {
      "text/plain": "        userid                name  editcount          registration  \\\n769    1215485             Cydebot    6812251  2006-04-07T01:24:50Z   \n1688  13286072          ClueBot NG    6324860  2010-10-20T17:01:19Z   \n225    7611264           AnomieBOT    6010647  2008-08-07T17:09:33Z   \n1481  27015025  InternetArchiveBot    5065245  2015-12-09T19:25:30Z   \n1156   7328338               Yobot    4732723  2008-06-17T22:33:17Z   \n1661   7903804        Citation bot    4596983  2008-09-21T02:34:54Z   \n1809    433328            SmackBot    3734324  2005-09-13T22:47:59Z   \n982   20483999             Monkbot    3119769  2014-01-03T15:15:55Z   \n1981   6569922              Addbot    2838809  2008-03-01T21:58:03Z   \n1081  11292982            EmausBot    2697646  2009-12-24T03:36:36Z   \n\n                                                 groups  emailable   gender  \\\n769                       [bot, *, user, autoconfirmed]       True  unknown   \n1688  [bot, reviewer, rollbacker, *, user, autoconfi...       True  unknown   \n225                       [bot, *, user, autoconfirmed]       True  unknown   \n1481            [bot, reviewer, *, user, autoconfirmed]      False  unknown   \n1156                      [bot, *, user, autoconfirmed]       True  unknown   \n1661                      [bot, *, user, autoconfirmed]       True  unknown   \n1809                           [*, user, autoconfirmed]       True  unknown   \n982                       [bot, *, user, autoconfirmed]       True  unknown   \n1981                      [bot, *, user, autoconfirmed]       True  unknown   \n1081      [bot, templateeditor, *, user, autoconfirmed]       True  unknown   \n\n                                        centralids  \\\n769    {'CentralAuth': 16887684, 'local': 1215485}   \n1688   {'CentralAuth': 8176742, 'local': 13286072}   \n225       {'CentralAuth': 34862, 'local': 7611264}   \n1481  {'CentralAuth': 44776378, 'local': 27015025}   \n1156    {'CentralAuth': 6455158, 'local': 7328338}   \n1661     {'CentralAuth': 346747, 'local': 7903804}   \n1809        {'CentralAuth': 4983, 'local': 433328}   \n982   {'CentralAuth': 30232221, 'local': 20483999}   \n1981    {'CentralAuth': 2287528, 'local': 6569922}   \n1081   {'CentralAuth': 5195574, 'local': 11292982}   \n\n                             attachedlocal    blockid  ... blockedbyid  \\\n769   {'CentralAuth': True, 'local': True}  9489079.0  ...  24812038.0   \n1688  {'CentralAuth': True, 'local': True}        NaN  ...         NaN   \n225   {'CentralAuth': True, 'local': True}        NaN  ...         NaN   \n1481  {'CentralAuth': True, 'local': True}        NaN  ...         NaN   \n1156  {'CentralAuth': True, 'local': True}        NaN  ...         NaN   \n1661  {'CentralAuth': True, 'local': True}        NaN  ...         NaN   \n1809  {'CentralAuth': True, 'local': True}        NaN  ...         NaN   \n982   {'CentralAuth': True, 'local': True}        NaN  ...         NaN   \n1981  {'CentralAuth': True, 'local': True}        NaN  ...         NaN   \n1081  {'CentralAuth': True, 'local': True}        NaN  ...         NaN   \n\n         blockreason      blockedtimestamp blockexpiry blockpartial  \\\n769   Malfunctioning  2020-01-12T03:11:42Z    infinite          0.0   \n1688             NaN                   NaN         NaN          NaN   \n225              NaN                   NaN         NaN          NaN   \n1481             NaN                   NaN         NaN          NaN   \n1156             NaN                   NaN         NaN          NaN   \n1661             NaN                   NaN         NaN          NaN   \n1809             NaN                   NaN         NaN          NaN   \n982              NaN                   NaN         NaN          NaN   \n1981             NaN                   NaN         NaN          NaN   \n1081             NaN                   NaN         NaN          NaN   \n\n      blocknocreate  blockanononly  blockemail  blockowntalk  \\\n769             0.0            0.0         0.0           0.0   \n1688            NaN            NaN         NaN           NaN   \n225             NaN            NaN         NaN           NaN   \n1481            NaN            NaN         NaN           NaN   \n1156            NaN            NaN         NaN           NaN   \n1661            NaN            NaN         NaN           NaN   \n1809            NaN            NaN         NaN           NaN   \n982             NaN            NaN         NaN           NaN   \n1981            NaN            NaN         NaN           NaN   \n1081            NaN            NaN         NaN           NaN   \n\n      blockedtimestampformatted  \n769      03:11, 12 January 2020  \n1688                        NaN  \n225                         NaN  \n1481                        NaN  \n1156                        NaN  \n1661                        NaN  \n1809                        NaN  \n982                         NaN  \n1981                        NaN  \n1081                        NaN  \n\n[10 rows x 21 columns]",
      "text/html": "<div>\n<style scoped>\n    .dataframe tbody tr th:only-of-type {\n        vertical-align: middle;\n    }\n\n    .dataframe tbody tr th {\n        vertical-align: top;\n    }\n\n    .dataframe thead th {\n        text-align: right;\n    }\n</style>\n<table border=\"1\" class=\"dataframe\">\n  <thead>\n    <tr style=\"text-align: right;\">\n      <th></th>\n      <th>userid</th>\n      <th>name</th>\n      <th>editcount</th>\n      <th>registration</th>\n      <th>groups</th>\n      <th>emailable</th>\n      <th>gender</th>\n      <th>centralids</th>\n      <th>attachedlocal</th>\n      <th>blockid</th>\n      <th>...</th>\n      <th>blockedbyid</th>\n      <th>blockreason</th>\n      <th>blockedtimestamp</th>\n      <th>blockexpiry</th>\n      <th>blockpartial</th>\n      <th>blocknocreate</th>\n      <th>blockanononly</th>\n      <th>blockemail</th>\n      <th>blockowntalk</th>\n      <th>blockedtimestampformatted</th>\n    </tr>\n  </thead>\n  <tbody>\n    <tr>\n      <th>769</th>\n      <td>1215485</td>\n      <td>Cydebot</td>\n      <td>6812251</td>\n      <td>2006-04-07T01:24:50Z</td>\n      <td>[bot, *, user, autoconfirmed]</td>\n      <td>True</td>\n      <td>unknown</td>\n      <td>{'CentralAuth': 16887684, 'local': 1215485}</td>\n      <td>{'CentralAuth': True, 'local': True}</td>\n      <td>9489079.0</td>\n      <td>...</td>\n      <td>24812038.0</td>\n      <td>Malfunctioning</td>\n      <td>2020-01-12T03:11:42Z</td>\n      <td>infinite</td>\n      <td>0.0</td>\n      <td>0.0</td>\n      <td>0.0</td>\n      <td>0.0</td>\n      <td>0.0</td>\n      <td>03:11, 12 January 2020</td>\n    </tr>\n    <tr>\n      <th>1688</th>\n      <td>13286072</td>\n      <td>ClueBot NG</td>\n      <td>6324860</td>\n      <td>2010-10-20T17:01:19Z</td>\n      <td>[bot, reviewer, rollbacker, *, user, autoconfi...</td>\n      <td>True</td>\n      <td>unknown</td>\n      <td>{'CentralAuth': 8176742, 'local': 13286072}</td>\n      <td>{'CentralAuth': True, 'local': True}</td>\n      <td>NaN</td>\n      <td>...</td>\n      <td>NaN</td>\n      <td>NaN</td>\n      <td>NaN</td>\n      <td>NaN</td>\n      <td>NaN</td>\n      <td>NaN</td>\n      <td>NaN</td>\n      <td>NaN</td>\n      <td>NaN</td>\n      <td>NaN</td>\n    </tr>\n    <tr>\n      <th>225</th>\n      <td>7611264</td>\n      <td>AnomieBOT</td>\n      <td>6010647</td>\n      <td>2008-08-07T17:09:33Z</td>\n      <td>[bot, *, user, autoconfirmed]</td>\n      <td>True</td>\n      <td>unknown</td>\n      <td>{'CentralAuth': 34862, 'local': 7611264}</td>\n      <td>{'CentralAuth': True, 'local': True}</td>\n      <td>NaN</td>\n      <td>...</td>\n      <td>NaN</td>\n      <td>NaN</td>\n      <td>NaN</td>\n      <td>NaN</td>\n      <td>NaN</td>\n      <td>NaN</td>\n      <td>NaN</td>\n      <td>NaN</td>\n      <td>NaN</td>\n      <td>NaN</td>\n    </tr>\n    <tr>\n      <th>1481</th>\n      <td>27015025</td>\n      <td>InternetArchiveBot</td>\n      <td>5065245</td>\n      <td>2015-12-09T19:25:30Z</td>\n      <td>[bot, reviewer, *, user, autoconfirmed]</td>\n      <td>False</td>\n      <td>unknown</td>\n      <td>{'CentralAuth': 44776378, 'local': 27015025}</td>\n      <td>{'CentralAuth': True, 'local': True}</td>\n      <td>NaN</td>\n      <td>...</td>\n      <td>NaN</td>\n      <td>NaN</td>\n      <td>NaN</td>\n      <td>NaN</td>\n      <td>NaN</td>\n      <td>NaN</td>\n      <td>NaN</td>\n      <td>NaN</td>\n      <td>NaN</td>\n      <td>NaN</td>\n    </tr>\n    <tr>\n      <th>1156</th>\n      <td>7328338</td>\n      <td>Yobot</td>\n      <td>4732723</td>\n      <td>2008-06-17T22:33:17Z</td>\n      <td>[bot, *, user, autoconfirmed]</td>\n      <td>True</td>\n      <td>unknown</td>\n      <td>{'CentralAuth': 6455158, 'local': 7328338}</td>\n      <td>{'CentralAuth': True, 'local': True}</td>\n      <td>NaN</td>\n      <td>...</td>\n      <td>NaN</td>\n      <td>NaN</td>\n      <td>NaN</td>\n      <td>NaN</td>\n      <td>NaN</td>\n      <td>NaN</td>\n      <td>NaN</td>\n      <td>NaN</td>\n      <td>NaN</td>\n      <td>NaN</td>\n    </tr>\n    <tr>\n      <th>1661</th>\n      <td>7903804</td>\n      <td>Citation bot</td>\n      <td>4596983</td>\n      <td>2008-09-21T02:34:54Z</td>\n      <td>[bot, *, user, autoconfirmed]</td>\n      <td>True</td>\n      <td>unknown</td>\n      <td>{'CentralAuth': 346747, 'local': 7903804}</td>\n      <td>{'CentralAuth': True, 'local': True}</td>\n      <td>NaN</td>\n      <td>...</td>\n      <td>NaN</td>\n      <td>NaN</td>\n      <td>NaN</td>\n      <td>NaN</td>\n      <td>NaN</td>\n      <td>NaN</td>\n      <td>NaN</td>\n      <td>NaN</td>\n      <td>NaN</td>\n      <td>NaN</td>\n    </tr>\n    <tr>\n      <th>1809</th>\n      <td>433328</td>\n      <td>SmackBot</td>\n      <td>3734324</td>\n      <td>2005-09-13T22:47:59Z</td>\n      <td>[*, user, autoconfirmed]</td>\n      <td>True</td>\n      <td>unknown</td>\n      <td>{'CentralAuth': 4983, 'local': 433328}</td>\n      <td>{'CentralAuth': True, 'local': True}</td>\n      <td>NaN</td>\n      <td>...</td>\n      <td>NaN</td>\n      <td>NaN</td>\n      <td>NaN</td>\n      <td>NaN</td>\n      <td>NaN</td>\n      <td>NaN</td>\n      <td>NaN</td>\n      <td>NaN</td>\n      <td>NaN</td>\n      <td>NaN</td>\n    </tr>\n    <tr>\n      <th>982</th>\n      <td>20483999</td>\n      <td>Monkbot</td>\n      <td>3119769</td>\n      <td>2014-01-03T15:15:55Z</td>\n      <td>[bot, *, user, autoconfirmed]</td>\n      <td>True</td>\n      <td>unknown</td>\n      <td>{'CentralAuth': 30232221, 'local': 20483999}</td>\n      <td>{'CentralAuth': True, 'local': True}</td>\n      <td>NaN</td>\n      <td>...</td>\n      <td>NaN</td>\n      <td>NaN</td>\n      <td>NaN</td>\n      <td>NaN</td>\n      <td>NaN</td>\n      <td>NaN</td>\n      <td>NaN</td>\n      <td>NaN</td>\n      <td>NaN</td>\n      <td>NaN</td>\n    </tr>\n    <tr>\n      <th>1981</th>\n      <td>6569922</td>\n      <td>Addbot</td>\n      <td>2838809</td>\n      <td>2008-03-01T21:58:03Z</td>\n      <td>[bot, *, user, autoconfirmed]</td>\n      <td>True</td>\n      <td>unknown</td>\n      <td>{'CentralAuth': 2287528, 'local': 6569922}</td>\n      <td>{'CentralAuth': True, 'local': True}</td>\n      <td>NaN</td>\n      <td>...</td>\n      <td>NaN</td>\n      <td>NaN</td>\n      <td>NaN</td>\n      <td>NaN</td>\n      <td>NaN</td>\n      <td>NaN</td>\n      <td>NaN</td>\n      <td>NaN</td>\n      <td>NaN</td>\n      <td>NaN</td>\n    </tr>\n    <tr>\n      <th>1081</th>\n      <td>11292982</td>\n      <td>EmausBot</td>\n      <td>2697646</td>\n      <td>2009-12-24T03:36:36Z</td>\n      <td>[bot, templateeditor, *, user, autoconfirmed]</td>\n      <td>True</td>\n      <td>unknown</td>\n      <td>{'CentralAuth': 5195574, 'local': 11292982}</td>\n      <td>{'CentralAuth': True, 'local': True}</td>\n      <td>NaN</td>\n      <td>...</td>\n      <td>NaN</td>\n      <td>NaN</td>\n      <td>NaN</td>\n      <td>NaN</td>\n      <td>NaN</td>\n      <td>NaN</td>\n      <td>NaN</td>\n      <td>NaN</td>\n      <td>NaN</td>\n      <td>NaN</td>\n    </tr>\n  </tbody>\n</table>\n<p>10 rows × 21 columns</p>\n</div>"
     },
     "execution_count": 6,
     "metadata": {},
     "output_type": "execute_result"
    }
   ],
   "source": [
    "# Top ten contributors with the highest number of edits\n",
    "contributors.sort_values(by=\"editcount\", ascending=False).head(10)"
   ]
  },
  {
   "cell_type": "code",
   "execution_count": 7,
   "metadata": {
    "ExecuteTime": {
     "end_time": "2023-12-13T22:20:45.006679Z",
     "start_time": "2023-12-13T22:20:44.971151Z"
    }
   },
   "outputs": [
    {
     "data": {
      "text/plain": "        userid          name  editcount          registration  \\\n0     26320902      LTPHarry      29037  2015-09-21T21:34:59Z   \n1       884743         Tuspm       3754  2006-02-05T01:33:51Z   \n3     15384587      Joergsam         75  2011-09-22T13:21:37Z   \n4       671756        Khukri      13212  2005-12-12T14:13:26Z   \n5     16154640        Teammm       9971  2012-01-24T17:16:10Z   \n...        ...           ...        ...                   ...   \n1986   9084891      Qu1bbl3r          4  2009-02-26T19:37:14Z   \n1987    409564  Carlosguitar       8914  2005-08-30T13:03:01Z   \n1990  16367583  CittaDolente        220  2012-02-25T20:44:25Z   \n1992     32750         Moink       5449  2003-12-02T00:04:34Z   \n1993  10534893     Clarkcj12      15964  2009-09-11T18:30:22Z   \n\n                                                 groups  emailable   gender  \\\n0           [extendedconfirmed, *, user, autoconfirmed]       True     male   \n1                              [*, user, autoconfirmed]       True  unknown   \n3                              [*, user, autoconfirmed]       True  unknown   \n4           [extendedconfirmed, *, user, autoconfirmed]       True     male   \n5     [extendedconfirmed, reviewer, rollbacker, *, u...       True     male   \n...                                                 ...        ...      ...   \n1986                                          [*, user]       True  unknown   \n1987                    [sysop, *, user, autoconfirmed]       True     male   \n1990                           [*, user, autoconfirmed]       True  unknown   \n1992        [extendedconfirmed, *, user, autoconfirmed]       True  unknown   \n1993  [extendedconfirmed, patroller, reviewer, rollb...       True     male   \n\n                                        centralids  \\\n0     {'CentralAuth': 43770210, 'local': 26320902}   \n1       {'CentralAuth': 17353727, 'local': 884743}   \n3     {'CentralAuth': 11265628, 'local': 15384587}   \n4          {'CentralAuth': 32597, 'local': 671756}   \n5     {'CentralAuth': 12541791, 'local': 16154640}   \n...                                            ...   \n1986    {'CentralAuth': 2037068, 'local': 9084891}   \n1987        {'CentralAuth': 1300, 'local': 409564}   \n1990  {'CentralAuth': 12873933, 'local': 16367583}   \n1992     {'CentralAuth': 37534251, 'local': 32750}   \n1993   {'CentralAuth': 4139792, 'local': 10534893}   \n\n                             attachedlocal  blockid  ... blockedbyid  \\\n0     {'CentralAuth': True, 'local': True}      NaN  ...         NaN   \n1     {'CentralAuth': True, 'local': True}      NaN  ...         NaN   \n3     {'CentralAuth': True, 'local': True}      NaN  ...         NaN   \n4     {'CentralAuth': True, 'local': True}      NaN  ...         NaN   \n5     {'CentralAuth': True, 'local': True}      NaN  ...         NaN   \n...                                    ...      ...  ...         ...   \n1986  {'CentralAuth': True, 'local': True}      NaN  ...         NaN   \n1987  {'CentralAuth': True, 'local': True}      NaN  ...         NaN   \n1990  {'CentralAuth': True, 'local': True}      NaN  ...         NaN   \n1992  {'CentralAuth': True, 'local': True}      NaN  ...         NaN   \n1993  {'CentralAuth': True, 'local': True}      NaN  ...         NaN   \n\n      blockreason blockedtimestamp blockexpiry blockpartial  blocknocreate  \\\n0             NaN              NaN         NaN          NaN            NaN   \n1             NaN              NaN         NaN          NaN            NaN   \n3             NaN              NaN         NaN          NaN            NaN   \n4             NaN              NaN         NaN          NaN            NaN   \n5             NaN              NaN         NaN          NaN            NaN   \n...           ...              ...         ...          ...            ...   \n1986          NaN              NaN         NaN          NaN            NaN   \n1987          NaN              NaN         NaN          NaN            NaN   \n1990          NaN              NaN         NaN          NaN            NaN   \n1992          NaN              NaN         NaN          NaN            NaN   \n1993          NaN              NaN         NaN          NaN            NaN   \n\n      blockanononly  blockemail  blockowntalk  blockedtimestampformatted  \n0               NaN         NaN           NaN                        NaN  \n1               NaN         NaN           NaN                        NaN  \n3               NaN         NaN           NaN                        NaN  \n4               NaN         NaN           NaN                        NaN  \n5               NaN         NaN           NaN                        NaN  \n...             ...         ...           ...                        ...  \n1986            NaN         NaN           NaN                        NaN  \n1987            NaN         NaN           NaN                        NaN  \n1990            NaN         NaN           NaN                        NaN  \n1992            NaN         NaN           NaN                        NaN  \n1993            NaN         NaN           NaN                        NaN  \n\n[1001 rows x 21 columns]",
      "text/html": "<div>\n<style scoped>\n    .dataframe tbody tr th:only-of-type {\n        vertical-align: middle;\n    }\n\n    .dataframe tbody tr th {\n        vertical-align: top;\n    }\n\n    .dataframe thead th {\n        text-align: right;\n    }\n</style>\n<table border=\"1\" class=\"dataframe\">\n  <thead>\n    <tr style=\"text-align: right;\">\n      <th></th>\n      <th>userid</th>\n      <th>name</th>\n      <th>editcount</th>\n      <th>registration</th>\n      <th>groups</th>\n      <th>emailable</th>\n      <th>gender</th>\n      <th>centralids</th>\n      <th>attachedlocal</th>\n      <th>blockid</th>\n      <th>...</th>\n      <th>blockedbyid</th>\n      <th>blockreason</th>\n      <th>blockedtimestamp</th>\n      <th>blockexpiry</th>\n      <th>blockpartial</th>\n      <th>blocknocreate</th>\n      <th>blockanononly</th>\n      <th>blockemail</th>\n      <th>blockowntalk</th>\n      <th>blockedtimestampformatted</th>\n    </tr>\n  </thead>\n  <tbody>\n    <tr>\n      <th>0</th>\n      <td>26320902</td>\n      <td>LTPHarry</td>\n      <td>29037</td>\n      <td>2015-09-21T21:34:59Z</td>\n      <td>[extendedconfirmed, *, user, autoconfirmed]</td>\n      <td>True</td>\n      <td>male</td>\n      <td>{'CentralAuth': 43770210, 'local': 26320902}</td>\n      <td>{'CentralAuth': True, 'local': True}</td>\n      <td>NaN</td>\n      <td>...</td>\n      <td>NaN</td>\n      <td>NaN</td>\n      <td>NaN</td>\n      <td>NaN</td>\n      <td>NaN</td>\n      <td>NaN</td>\n      <td>NaN</td>\n      <td>NaN</td>\n      <td>NaN</td>\n      <td>NaN</td>\n    </tr>\n    <tr>\n      <th>1</th>\n      <td>884743</td>\n      <td>Tuspm</td>\n      <td>3754</td>\n      <td>2006-02-05T01:33:51Z</td>\n      <td>[*, user, autoconfirmed]</td>\n      <td>True</td>\n      <td>unknown</td>\n      <td>{'CentralAuth': 17353727, 'local': 884743}</td>\n      <td>{'CentralAuth': True, 'local': True}</td>\n      <td>NaN</td>\n      <td>...</td>\n      <td>NaN</td>\n      <td>NaN</td>\n      <td>NaN</td>\n      <td>NaN</td>\n      <td>NaN</td>\n      <td>NaN</td>\n      <td>NaN</td>\n      <td>NaN</td>\n      <td>NaN</td>\n      <td>NaN</td>\n    </tr>\n    <tr>\n      <th>3</th>\n      <td>15384587</td>\n      <td>Joergsam</td>\n      <td>75</td>\n      <td>2011-09-22T13:21:37Z</td>\n      <td>[*, user, autoconfirmed]</td>\n      <td>True</td>\n      <td>unknown</td>\n      <td>{'CentralAuth': 11265628, 'local': 15384587}</td>\n      <td>{'CentralAuth': True, 'local': True}</td>\n      <td>NaN</td>\n      <td>...</td>\n      <td>NaN</td>\n      <td>NaN</td>\n      <td>NaN</td>\n      <td>NaN</td>\n      <td>NaN</td>\n      <td>NaN</td>\n      <td>NaN</td>\n      <td>NaN</td>\n      <td>NaN</td>\n      <td>NaN</td>\n    </tr>\n    <tr>\n      <th>4</th>\n      <td>671756</td>\n      <td>Khukri</td>\n      <td>13212</td>\n      <td>2005-12-12T14:13:26Z</td>\n      <td>[extendedconfirmed, *, user, autoconfirmed]</td>\n      <td>True</td>\n      <td>male</td>\n      <td>{'CentralAuth': 32597, 'local': 671756}</td>\n      <td>{'CentralAuth': True, 'local': True}</td>\n      <td>NaN</td>\n      <td>...</td>\n      <td>NaN</td>\n      <td>NaN</td>\n      <td>NaN</td>\n      <td>NaN</td>\n      <td>NaN</td>\n      <td>NaN</td>\n      <td>NaN</td>\n      <td>NaN</td>\n      <td>NaN</td>\n      <td>NaN</td>\n    </tr>\n    <tr>\n      <th>5</th>\n      <td>16154640</td>\n      <td>Teammm</td>\n      <td>9971</td>\n      <td>2012-01-24T17:16:10Z</td>\n      <td>[extendedconfirmed, reviewer, rollbacker, *, u...</td>\n      <td>True</td>\n      <td>male</td>\n      <td>{'CentralAuth': 12541791, 'local': 16154640}</td>\n      <td>{'CentralAuth': True, 'local': True}</td>\n      <td>NaN</td>\n      <td>...</td>\n      <td>NaN</td>\n      <td>NaN</td>\n      <td>NaN</td>\n      <td>NaN</td>\n      <td>NaN</td>\n      <td>NaN</td>\n      <td>NaN</td>\n      <td>NaN</td>\n      <td>NaN</td>\n      <td>NaN</td>\n    </tr>\n    <tr>\n      <th>...</th>\n      <td>...</td>\n      <td>...</td>\n      <td>...</td>\n      <td>...</td>\n      <td>...</td>\n      <td>...</td>\n      <td>...</td>\n      <td>...</td>\n      <td>...</td>\n      <td>...</td>\n      <td>...</td>\n      <td>...</td>\n      <td>...</td>\n      <td>...</td>\n      <td>...</td>\n      <td>...</td>\n      <td>...</td>\n      <td>...</td>\n      <td>...</td>\n      <td>...</td>\n      <td>...</td>\n    </tr>\n    <tr>\n      <th>1986</th>\n      <td>9084891</td>\n      <td>Qu1bbl3r</td>\n      <td>4</td>\n      <td>2009-02-26T19:37:14Z</td>\n      <td>[*, user]</td>\n      <td>True</td>\n      <td>unknown</td>\n      <td>{'CentralAuth': 2037068, 'local': 9084891}</td>\n      <td>{'CentralAuth': True, 'local': True}</td>\n      <td>NaN</td>\n      <td>...</td>\n      <td>NaN</td>\n      <td>NaN</td>\n      <td>NaN</td>\n      <td>NaN</td>\n      <td>NaN</td>\n      <td>NaN</td>\n      <td>NaN</td>\n      <td>NaN</td>\n      <td>NaN</td>\n      <td>NaN</td>\n    </tr>\n    <tr>\n      <th>1987</th>\n      <td>409564</td>\n      <td>Carlosguitar</td>\n      <td>8914</td>\n      <td>2005-08-30T13:03:01Z</td>\n      <td>[sysop, *, user, autoconfirmed]</td>\n      <td>True</td>\n      <td>male</td>\n      <td>{'CentralAuth': 1300, 'local': 409564}</td>\n      <td>{'CentralAuth': True, 'local': True}</td>\n      <td>NaN</td>\n      <td>...</td>\n      <td>NaN</td>\n      <td>NaN</td>\n      <td>NaN</td>\n      <td>NaN</td>\n      <td>NaN</td>\n      <td>NaN</td>\n      <td>NaN</td>\n      <td>NaN</td>\n      <td>NaN</td>\n      <td>NaN</td>\n    </tr>\n    <tr>\n      <th>1990</th>\n      <td>16367583</td>\n      <td>CittaDolente</td>\n      <td>220</td>\n      <td>2012-02-25T20:44:25Z</td>\n      <td>[*, user, autoconfirmed]</td>\n      <td>True</td>\n      <td>unknown</td>\n      <td>{'CentralAuth': 12873933, 'local': 16367583}</td>\n      <td>{'CentralAuth': True, 'local': True}</td>\n      <td>NaN</td>\n      <td>...</td>\n      <td>NaN</td>\n      <td>NaN</td>\n      <td>NaN</td>\n      <td>NaN</td>\n      <td>NaN</td>\n      <td>NaN</td>\n      <td>NaN</td>\n      <td>NaN</td>\n      <td>NaN</td>\n      <td>NaN</td>\n    </tr>\n    <tr>\n      <th>1992</th>\n      <td>32750</td>\n      <td>Moink</td>\n      <td>5449</td>\n      <td>2003-12-02T00:04:34Z</td>\n      <td>[extendedconfirmed, *, user, autoconfirmed]</td>\n      <td>True</td>\n      <td>unknown</td>\n      <td>{'CentralAuth': 37534251, 'local': 32750}</td>\n      <td>{'CentralAuth': True, 'local': True}</td>\n      <td>NaN</td>\n      <td>...</td>\n      <td>NaN</td>\n      <td>NaN</td>\n      <td>NaN</td>\n      <td>NaN</td>\n      <td>NaN</td>\n      <td>NaN</td>\n      <td>NaN</td>\n      <td>NaN</td>\n      <td>NaN</td>\n      <td>NaN</td>\n    </tr>\n    <tr>\n      <th>1993</th>\n      <td>10534893</td>\n      <td>Clarkcj12</td>\n      <td>15964</td>\n      <td>2009-09-11T18:30:22Z</td>\n      <td>[extendedconfirmed, patroller, reviewer, rollb...</td>\n      <td>True</td>\n      <td>male</td>\n      <td>{'CentralAuth': 4139792, 'local': 10534893}</td>\n      <td>{'CentralAuth': True, 'local': True}</td>\n      <td>NaN</td>\n      <td>...</td>\n      <td>NaN</td>\n      <td>NaN</td>\n      <td>NaN</td>\n      <td>NaN</td>\n      <td>NaN</td>\n      <td>NaN</td>\n      <td>NaN</td>\n      <td>NaN</td>\n      <td>NaN</td>\n      <td>NaN</td>\n    </tr>\n  </tbody>\n</table>\n<p>1001 rows × 21 columns</p>\n</div>"
     },
     "execution_count": 7,
     "metadata": {},
     "output_type": "execute_result"
    }
   ],
   "source": [
    "# Filtering out contributors that we cannot email or those who are blocked, so truested contributors\n",
    "contributors[contributors.blockedtimestamp.isna() & contributors.emailable == True]"
   ]
  },
  {
   "cell_type": "code",
   "execution_count": 8,
   "metadata": {
    "ExecuteTime": {
     "end_time": "2023-12-13T22:20:51.697581Z",
     "start_time": "2023-12-13T22:20:51.681798Z"
    }
   },
   "outputs": [
    {
     "data": {
      "text/plain": "array(['*', 'abusefilter', 'abusefilter-helper', 'autoconfirmed',\n       'autoreviewer', 'bot', 'bureaucrat', 'checkuser',\n       'eventcoordinator', 'extendedconfirmed', 'extendedmover',\n       'filemover', 'import', 'interface-admin', 'ipblock-exempt',\n       'massmessage-sender', 'patroller', 'reviewer', 'rollbacker',\n       'suppress', 'sysop', 'templateeditor', 'user'], dtype='<U18')"
     },
     "execution_count": 8,
     "metadata": {},
     "output_type": "execute_result"
    }
   ],
   "source": [
    "np.unique([*itertools.chain.from_iterable(contributors.groups)])"
   ]
  },
  {
   "cell_type": "code",
   "execution_count": 9,
   "metadata": {
    "ExecuteTime": {
     "end_time": "2023-12-13T22:21:09.668180Z",
     "start_time": "2023-12-13T22:21:09.635727Z"
    }
   },
   "outputs": [
    {
     "data": {
      "text/plain": "        userid               name  editcount          registration  \\\n1809    433328           SmackBot    3734324  2005-09-13T22:47:59Z   \n999    7852030  Materialscientist    1922414  2008-09-14T01:47:33Z   \n788    9784415         Tom.Reding    1906526  2009-05-28T16:56:21Z   \n1249   4928500            ClueBot    1596818  2007-07-23T18:45:42Z   \n12    14508071            BG19bot    1005055  2011-05-03T06:25:50Z   \n1338   7320905         Luckas-bot     929662  2008-06-16T19:05:04Z   \n816   11308236    John of Reading     733485  2009-12-27T11:47:08Z   \n850    6163802           XLinkBot     718067  2008-01-10T17:31:45Z   \n434    1189543             Simeon     611315  2006-04-02T18:17:29Z   \n988     159678        Woohookitty     611179  2004-12-29T22:05:43Z   \n\n                                                 groups  emailable   gender  \\\n1809                           [*, user, autoconfirmed]       True  unknown   \n999   [abusefilter, autoreviewer, checkuser, sysop, ...       True  unknown   \n788   [extendedconfirmed, extendedmover, templateedi...       True     male   \n1249                           [*, user, autoconfirmed]       True  unknown   \n12                             [*, user, autoconfirmed]       True  unknown   \n1338                           [*, user, autoconfirmed]       True  unknown   \n816   [autoreviewer, extendedconfirmed, reviewer, *,...       True     male   \n850   [autoreviewer, extendedconfirmed, reviewer, *,...       True  unknown   \n434   [autoreviewer, extendedconfirmed, *, user, aut...       True  unknown   \n988                     [sysop, *, user, autoconfirmed]       True  unknown   \n\n                                        centralids  \\\n1809        {'CentralAuth': 4983, 'local': 433328}   \n999     {'CentralAuth': 4012020, 'local': 7852030}   \n788     {'CentralAuth': 3057586, 'local': 9784415}   \n1249        {'CentralAuth': 832, 'local': 4928500}   \n12    {'CentralAuth': 16886793, 'local': 14508071}   \n1338      {'CentralAuth': 21689, 'local': 7320905}   \n816    {'CentralAuth': 5271305, 'local': 11308236}   \n850      {'CentralAuth': 675419, 'local': 6163802}   \n434       {'CentralAuth': 13526, 'local': 1189543}   \n988          {'CentralAuth': 934, 'local': 159678}   \n\n                             attachedlocal  blockid  ... blockedbyid  \\\n1809  {'CentralAuth': True, 'local': True}      NaN  ...         NaN   \n999   {'CentralAuth': True, 'local': True}      NaN  ...         NaN   \n788   {'CentralAuth': True, 'local': True}      NaN  ...         NaN   \n1249  {'CentralAuth': True, 'local': True}      NaN  ...         NaN   \n12    {'CentralAuth': True, 'local': True}      NaN  ...         NaN   \n1338  {'CentralAuth': True, 'local': True}      NaN  ...         NaN   \n816   {'CentralAuth': True, 'local': True}      NaN  ...         NaN   \n850   {'CentralAuth': True, 'local': True}      NaN  ...         NaN   \n434   {'CentralAuth': True, 'local': True}      NaN  ...         NaN   \n988   {'CentralAuth': True, 'local': True}      NaN  ...         NaN   \n\n      blockreason blockedtimestamp blockexpiry blockpartial  blocknocreate  \\\n1809          NaN              NaN         NaN          NaN            NaN   \n999           NaN              NaN         NaN          NaN            NaN   \n788           NaN              NaN         NaN          NaN            NaN   \n1249          NaN              NaN         NaN          NaN            NaN   \n12            NaN              NaN         NaN          NaN            NaN   \n1338          NaN              NaN         NaN          NaN            NaN   \n816           NaN              NaN         NaN          NaN            NaN   \n850           NaN              NaN         NaN          NaN            NaN   \n434           NaN              NaN         NaN          NaN            NaN   \n988           NaN              NaN         NaN          NaN            NaN   \n\n      blockanononly  blockemail  blockowntalk  blockedtimestampformatted  \n1809            NaN         NaN           NaN                        NaN  \n999             NaN         NaN           NaN                        NaN  \n788             NaN         NaN           NaN                        NaN  \n1249            NaN         NaN           NaN                        NaN  \n12              NaN         NaN           NaN                        NaN  \n1338            NaN         NaN           NaN                        NaN  \n816             NaN         NaN           NaN                        NaN  \n850             NaN         NaN           NaN                        NaN  \n434             NaN         NaN           NaN                        NaN  \n988             NaN         NaN           NaN                        NaN  \n\n[10 rows x 21 columns]",
      "text/html": "<div>\n<style scoped>\n    .dataframe tbody tr th:only-of-type {\n        vertical-align: middle;\n    }\n\n    .dataframe tbody tr th {\n        vertical-align: top;\n    }\n\n    .dataframe thead th {\n        text-align: right;\n    }\n</style>\n<table border=\"1\" class=\"dataframe\">\n  <thead>\n    <tr style=\"text-align: right;\">\n      <th></th>\n      <th>userid</th>\n      <th>name</th>\n      <th>editcount</th>\n      <th>registration</th>\n      <th>groups</th>\n      <th>emailable</th>\n      <th>gender</th>\n      <th>centralids</th>\n      <th>attachedlocal</th>\n      <th>blockid</th>\n      <th>...</th>\n      <th>blockedbyid</th>\n      <th>blockreason</th>\n      <th>blockedtimestamp</th>\n      <th>blockexpiry</th>\n      <th>blockpartial</th>\n      <th>blocknocreate</th>\n      <th>blockanononly</th>\n      <th>blockemail</th>\n      <th>blockowntalk</th>\n      <th>blockedtimestampformatted</th>\n    </tr>\n  </thead>\n  <tbody>\n    <tr>\n      <th>1809</th>\n      <td>433328</td>\n      <td>SmackBot</td>\n      <td>3734324</td>\n      <td>2005-09-13T22:47:59Z</td>\n      <td>[*, user, autoconfirmed]</td>\n      <td>True</td>\n      <td>unknown</td>\n      <td>{'CentralAuth': 4983, 'local': 433328}</td>\n      <td>{'CentralAuth': True, 'local': True}</td>\n      <td>NaN</td>\n      <td>...</td>\n      <td>NaN</td>\n      <td>NaN</td>\n      <td>NaN</td>\n      <td>NaN</td>\n      <td>NaN</td>\n      <td>NaN</td>\n      <td>NaN</td>\n      <td>NaN</td>\n      <td>NaN</td>\n      <td>NaN</td>\n    </tr>\n    <tr>\n      <th>999</th>\n      <td>7852030</td>\n      <td>Materialscientist</td>\n      <td>1922414</td>\n      <td>2008-09-14T01:47:33Z</td>\n      <td>[abusefilter, autoreviewer, checkuser, sysop, ...</td>\n      <td>True</td>\n      <td>unknown</td>\n      <td>{'CentralAuth': 4012020, 'local': 7852030}</td>\n      <td>{'CentralAuth': True, 'local': True}</td>\n      <td>NaN</td>\n      <td>...</td>\n      <td>NaN</td>\n      <td>NaN</td>\n      <td>NaN</td>\n      <td>NaN</td>\n      <td>NaN</td>\n      <td>NaN</td>\n      <td>NaN</td>\n      <td>NaN</td>\n      <td>NaN</td>\n      <td>NaN</td>\n    </tr>\n    <tr>\n      <th>788</th>\n      <td>9784415</td>\n      <td>Tom.Reding</td>\n      <td>1906526</td>\n      <td>2009-05-28T16:56:21Z</td>\n      <td>[extendedconfirmed, extendedmover, templateedi...</td>\n      <td>True</td>\n      <td>male</td>\n      <td>{'CentralAuth': 3057586, 'local': 9784415}</td>\n      <td>{'CentralAuth': True, 'local': True}</td>\n      <td>NaN</td>\n      <td>...</td>\n      <td>NaN</td>\n      <td>NaN</td>\n      <td>NaN</td>\n      <td>NaN</td>\n      <td>NaN</td>\n      <td>NaN</td>\n      <td>NaN</td>\n      <td>NaN</td>\n      <td>NaN</td>\n      <td>NaN</td>\n    </tr>\n    <tr>\n      <th>1249</th>\n      <td>4928500</td>\n      <td>ClueBot</td>\n      <td>1596818</td>\n      <td>2007-07-23T18:45:42Z</td>\n      <td>[*, user, autoconfirmed]</td>\n      <td>True</td>\n      <td>unknown</td>\n      <td>{'CentralAuth': 832, 'local': 4928500}</td>\n      <td>{'CentralAuth': True, 'local': True}</td>\n      <td>NaN</td>\n      <td>...</td>\n      <td>NaN</td>\n      <td>NaN</td>\n      <td>NaN</td>\n      <td>NaN</td>\n      <td>NaN</td>\n      <td>NaN</td>\n      <td>NaN</td>\n      <td>NaN</td>\n      <td>NaN</td>\n      <td>NaN</td>\n    </tr>\n    <tr>\n      <th>12</th>\n      <td>14508071</td>\n      <td>BG19bot</td>\n      <td>1005055</td>\n      <td>2011-05-03T06:25:50Z</td>\n      <td>[*, user, autoconfirmed]</td>\n      <td>True</td>\n      <td>unknown</td>\n      <td>{'CentralAuth': 16886793, 'local': 14508071}</td>\n      <td>{'CentralAuth': True, 'local': True}</td>\n      <td>NaN</td>\n      <td>...</td>\n      <td>NaN</td>\n      <td>NaN</td>\n      <td>NaN</td>\n      <td>NaN</td>\n      <td>NaN</td>\n      <td>NaN</td>\n      <td>NaN</td>\n      <td>NaN</td>\n      <td>NaN</td>\n      <td>NaN</td>\n    </tr>\n    <tr>\n      <th>1338</th>\n      <td>7320905</td>\n      <td>Luckas-bot</td>\n      <td>929662</td>\n      <td>2008-06-16T19:05:04Z</td>\n      <td>[*, user, autoconfirmed]</td>\n      <td>True</td>\n      <td>unknown</td>\n      <td>{'CentralAuth': 21689, 'local': 7320905}</td>\n      <td>{'CentralAuth': True, 'local': True}</td>\n      <td>NaN</td>\n      <td>...</td>\n      <td>NaN</td>\n      <td>NaN</td>\n      <td>NaN</td>\n      <td>NaN</td>\n      <td>NaN</td>\n      <td>NaN</td>\n      <td>NaN</td>\n      <td>NaN</td>\n      <td>NaN</td>\n      <td>NaN</td>\n    </tr>\n    <tr>\n      <th>816</th>\n      <td>11308236</td>\n      <td>John of Reading</td>\n      <td>733485</td>\n      <td>2009-12-27T11:47:08Z</td>\n      <td>[autoreviewer, extendedconfirmed, reviewer, *,...</td>\n      <td>True</td>\n      <td>male</td>\n      <td>{'CentralAuth': 5271305, 'local': 11308236}</td>\n      <td>{'CentralAuth': True, 'local': True}</td>\n      <td>NaN</td>\n      <td>...</td>\n      <td>NaN</td>\n      <td>NaN</td>\n      <td>NaN</td>\n      <td>NaN</td>\n      <td>NaN</td>\n      <td>NaN</td>\n      <td>NaN</td>\n      <td>NaN</td>\n      <td>NaN</td>\n      <td>NaN</td>\n    </tr>\n    <tr>\n      <th>850</th>\n      <td>6163802</td>\n      <td>XLinkBot</td>\n      <td>718067</td>\n      <td>2008-01-10T17:31:45Z</td>\n      <td>[autoreviewer, extendedconfirmed, reviewer, *,...</td>\n      <td>True</td>\n      <td>unknown</td>\n      <td>{'CentralAuth': 675419, 'local': 6163802}</td>\n      <td>{'CentralAuth': True, 'local': True}</td>\n      <td>NaN</td>\n      <td>...</td>\n      <td>NaN</td>\n      <td>NaN</td>\n      <td>NaN</td>\n      <td>NaN</td>\n      <td>NaN</td>\n      <td>NaN</td>\n      <td>NaN</td>\n      <td>NaN</td>\n      <td>NaN</td>\n      <td>NaN</td>\n    </tr>\n    <tr>\n      <th>434</th>\n      <td>1189543</td>\n      <td>Simeon</td>\n      <td>611315</td>\n      <td>2006-04-02T18:17:29Z</td>\n      <td>[autoreviewer, extendedconfirmed, *, user, aut...</td>\n      <td>True</td>\n      <td>unknown</td>\n      <td>{'CentralAuth': 13526, 'local': 1189543}</td>\n      <td>{'CentralAuth': True, 'local': True}</td>\n      <td>NaN</td>\n      <td>...</td>\n      <td>NaN</td>\n      <td>NaN</td>\n      <td>NaN</td>\n      <td>NaN</td>\n      <td>NaN</td>\n      <td>NaN</td>\n      <td>NaN</td>\n      <td>NaN</td>\n      <td>NaN</td>\n      <td>NaN</td>\n    </tr>\n    <tr>\n      <th>988</th>\n      <td>159678</td>\n      <td>Woohookitty</td>\n      <td>611179</td>\n      <td>2004-12-29T22:05:43Z</td>\n      <td>[sysop, *, user, autoconfirmed]</td>\n      <td>True</td>\n      <td>unknown</td>\n      <td>{'CentralAuth': 934, 'local': 159678}</td>\n      <td>{'CentralAuth': True, 'local': True}</td>\n      <td>NaN</td>\n      <td>...</td>\n      <td>NaN</td>\n      <td>NaN</td>\n      <td>NaN</td>\n      <td>NaN</td>\n      <td>NaN</td>\n      <td>NaN</td>\n      <td>NaN</td>\n      <td>NaN</td>\n      <td>NaN</td>\n      <td>NaN</td>\n    </tr>\n  </tbody>\n</table>\n<p>10 rows × 21 columns</p>\n</div>"
     },
     "execution_count": 9,
     "metadata": {},
     "output_type": "execute_result"
    }
   ],
   "source": [
    "# Let's gather this together\n",
    "# Let's pick contributors that are not bots, not blocked, and are emailable,\n",
    "# and get the top 10 most edits\n",
    "\n",
    "contributors.pipe(\n",
    "    lambda df: df[\n",
    "        (df.blockedtimestamp.isna() & df.emailable)\n",
    "        & (~df.groups.apply(lambda x: \"bot\" in x))\n",
    "    ]\n",
    ").sort_values(by=\"editcount\", ascending=False).head(10)"
   ]
  },
  {
   "cell_type": "code",
   "execution_count": 10,
   "metadata": {
    "ExecuteTime": {
     "end_time": "2023-12-13T22:21:17.648429Z",
     "start_time": "2023-12-13T22:21:17.627085Z"
    }
   },
   "outputs": [
    {
     "data": {
      "text/plain": "userid\n638345      87\n4928500     75\n382591      63\n6326132     59\n10000761    45\n1653549     43\n10651216    39\n72164       38\n2466377     38\n13661       34\nName: id, dtype: int64"
     },
     "execution_count": 10,
     "metadata": {},
     "output_type": "execute_result"
    }
   ],
   "source": [
    "# Let's focus on the main page revisions\n",
    "# We can get the contributors that are not bots, not blocked, and are emailable,\n",
    "# and have the most revisions on the main page\n",
    "\n",
    "main_page_contributors = pd.merge(\n",
    "    main_page, contributors, left_on=\"user_id\", right_on=\"userid\", how=\"inner\"\n",
    ")\n",
    "main_page_contributors.pipe(\n",
    "    lambda df: df[\n",
    "        (df.blockedtimestamp.isna() & df.emailable)\n",
    "        & (~df.groups.apply(lambda x: \"bot\" in x))\n",
    "    ]\n",
    ").groupby(\"userid\").id.count().sort_values(ascending=False).head(10)"
   ]
  },
  {
   "cell_type": "code",
   "execution_count": null,
   "metadata": {},
   "outputs": [],
   "source": []
  }
 ],
 "metadata": {
  "kernelspec": {
   "display_name": "fun-M94MEydN-py3.9",
   "language": "python",
   "name": "python3"
  },
  "language_info": {
   "codemirror_mode": {
    "name": "ipython",
    "version": 3
   },
   "file_extension": ".py",
   "mimetype": "text/x-python",
   "name": "python",
   "nbconvert_exporter": "python",
   "pygments_lexer": "ipython3",
   "version": "3.9.6"
  }
 },
 "nbformat": 4,
 "nbformat_minor": 2
}
