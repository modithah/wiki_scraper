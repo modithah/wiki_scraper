{
 "cells": [
  {
   "cell_type": "code",
   "execution_count": 1,
   "id": "initial_id",
   "metadata": {
    "collapsed": true,
    "ExecuteTime": {
     "end_time": "2023-12-12T14:18:13.105253Z",
     "start_time": "2023-12-12T14:18:10.843139Z"
    }
   },
   "outputs": [],
   "source": [
    "import pandas as pd"
   ]
  },
  {
   "cell_type": "code",
   "execution_count": 45,
   "outputs": [],
   "source": [
    "def get_most_active_users(df, n=10):\n",
    "    return df.groupby(\"user_id\")[\"id\"].count().sort_values(ascending=False).head(n)"
   ],
   "metadata": {
    "collapsed": false,
    "ExecuteTime": {
     "start_time": "2023-12-12T15:52:35.842489Z"
    }
   },
   "id": "a79870d01cbb8736"
  },
  {
   "cell_type": "code",
   "execution_count": 46,
   "outputs": [],
   "source": [
    "def get_revisions_with_tags(df):\n",
    "    return df[df[\"tags\"].str.len() > 0]"
   ],
   "metadata": {
    "collapsed": false,
    "ExecuteTime": {
     "end_time": "2023-12-12T15:53:41.099446Z",
     "start_time": "2023-12-12T15:53:41.092574Z"
    }
   },
   "id": "2639e1609246bb73"
  },
  {
   "cell_type": "code",
   "execution_count": 47,
   "outputs": [],
   "source": [
    "def get_most_common_tags(df, n=10):\n",
    "    return (\n",
    "        df.explode(\"tags\")\n",
    "        .reset_index(drop=True)\n",
    "        .groupby(\"tags\")[\"id\"]\n",
    "        .count()\n",
    "        .sort_values(ascending=False)\n",
    "        .head(n)\n",
    "    )"
   ],
   "metadata": {
    "collapsed": false,
    "ExecuteTime": {
     "end_time": "2023-12-12T15:53:55.968715Z",
     "start_time": "2023-12-12T15:53:55.957490Z"
    }
   },
   "id": "524699e703e16759"
  },
  {
   "cell_type": "markdown",
   "source": [
    "# For Page 1"
   ],
   "metadata": {
    "collapsed": false
   },
   "id": "1500cf88fb24a974"
  },
  {
   "cell_type": "code",
   "execution_count": 48,
   "outputs": [],
   "source": [
    "lego_df = pd.read_json(\"../data/Lego.json\")"
   ],
   "metadata": {
    "collapsed": false,
    "ExecuteTime": {
     "start_time": "2023-12-12T15:53:58.373089Z"
    }
   },
   "id": "720bd65cfdf5427c"
  },
  {
   "cell_type": "code",
   "execution_count": 49,
   "outputs": [
    {
     "data": {
      "text/plain": "user_id\n0           3284\n2175470      394\n13286072     162\n455421       132\n26032994     113\n638345        87\n12683541      80\n4928500       75\n382591        63\n6326132       59\nName: id, dtype: int64"
     },
     "execution_count": 49,
     "metadata": {},
     "output_type": "execute_result"
    }
   ],
   "source": [
    "get_most_active_users(lego_df)"
   ],
   "metadata": {
    "collapsed": false,
    "ExecuteTime": {
     "end_time": "2023-12-12T15:53:59.621726Z",
     "start_time": "2023-12-12T15:53:59.605234Z"
    }
   },
   "id": "4d0f76c624b1884a"
  },
  {
   "cell_type": "code",
   "execution_count": 50,
   "outputs": [],
   "source": [
    "with_tags = get_revisions_with_tags(lego_df)"
   ],
   "metadata": {
    "collapsed": false,
    "ExecuteTime": {
     "end_time": "2023-12-12T15:54:23.082856Z",
     "start_time": "2023-12-12T15:54:23.063657Z"
    }
   },
   "id": "2ad2571828a40bb2"
  },
  {
   "cell_type": "code",
   "execution_count": 51,
   "outputs": [],
   "source": [
    "tag_counts = get_most_common_tags(with_tags)"
   ],
   "metadata": {
    "collapsed": false,
    "ExecuteTime": {
     "end_time": "2023-12-12T15:54:35.448693Z",
     "start_time": "2023-12-12T15:54:35.371822Z"
    }
   },
   "id": "8ac35dd2de65c6af"
  },
  {
   "cell_type": "code",
   "execution_count": 52,
   "outputs": [
    {
     "data": {
      "text/plain": "tags\nmobile edit             99\nvisualeditor            89\nmobile web edit         82\nwikieditor              57\nblanking                36\nSection blanking        23\nrepeating characters    19\nAWB                     16\nreferences removed      14\nmw-undo                 11\nName: id, dtype: int64"
     },
     "execution_count": 52,
     "metadata": {},
     "output_type": "execute_result"
    }
   ],
   "source": [
    "tag_counts.head(10)"
   ],
   "metadata": {
    "collapsed": false,
    "ExecuteTime": {
     "end_time": "2023-12-12T15:54:37.297199Z",
     "start_time": "2023-12-12T15:54:37.288923Z"
    }
   },
   "id": "80c8e89b5ad14960"
  },
  {
   "cell_type": "code",
   "execution_count": 53,
   "outputs": [
    {
     "data": {
      "text/plain": "<Axes: xlabel='tags'>"
     },
     "execution_count": 53,
     "metadata": {},
     "output_type": "execute_result"
    },
    {
     "data": {
      "text/plain": "<Figure size 640x480 with 1 Axes>",
      "image/png": "[encoded data removed]"
     },
     "metadata": {},
     "output_type": "display_data"
    }
   ],
   "source": [
    "tag_counts.head(10).plot.bar()"
   ],
   "metadata": {
    "collapsed": false,
    "ExecuteTime": {
     "end_time": "2023-12-12T15:54:39.978425Z",
     "start_time": "2023-12-12T15:54:39.776147Z"
    }
   },
   "id": "ee3193c13219c504"
  },
  {
   "cell_type": "markdown",
   "source": [
    "# For Page 2"
   ],
   "metadata": {
    "collapsed": false
   },
   "id": "bebb0921562d220d"
  },
  {
   "cell_type": "code",
   "execution_count": 54,
   "outputs": [],
   "source": [
    "star_wars_df = pd.read_json(\"../data/Lego Star Wars.json\")"
   ],
   "metadata": {
    "collapsed": false,
    "ExecuteTime": {
     "end_time": "2023-12-12T15:56:05.158129Z",
     "start_time": "2023-12-12T15:56:05.133888Z"
    }
   },
   "id": "9f54552ef00fcae2"
  },
  {
   "cell_type": "code",
   "execution_count": 55,
   "outputs": [
    {
     "data": {
      "text/plain": "user_id\n0           735\n39252742    192\n1173535      48\n13286072     28\n13760575     20\n1670216      16\n2175470      16\n35498457     16\n10863197     14\n118328       11\nName: id, dtype: int64"
     },
     "execution_count": 55,
     "metadata": {},
     "output_type": "execute_result"
    }
   ],
   "source": [
    "get_most_active_users(star_wars_df)"
   ],
   "metadata": {
    "collapsed": false,
    "ExecuteTime": {
     "end_time": "2023-12-12T15:56:10.154539Z",
     "start_time": "2023-12-12T15:56:10.138889Z"
    }
   },
   "id": "16b43f146f833131"
  },
  {
   "cell_type": "code",
   "execution_count": 56,
   "outputs": [],
   "source": [
    "with_tags_sw = get_revisions_with_tags(star_wars_df)"
   ],
   "metadata": {
    "collapsed": false,
    "ExecuteTime": {
     "end_time": "2023-12-12T15:56:22.929697Z",
     "start_time": "2023-12-12T15:56:22.910987Z"
    }
   },
   "id": "a090b5c7b32efe5f"
  },
  {
   "cell_type": "code",
   "execution_count": 57,
   "outputs": [],
   "source": [
    "tag_counts_sw = get_most_common_tags(with_tags_sw)"
   ],
   "metadata": {
    "collapsed": false,
    "ExecuteTime": {
     "end_time": "2023-12-12T15:56:31.996643Z",
     "start_time": "2023-12-12T15:56:31.977191Z"
    }
   },
   "id": "f52393514204de19"
  },
  {
   "cell_type": "code",
   "execution_count": 58,
   "outputs": [
    {
     "data": {
      "text/plain": "tags\nmobile edit             189\nmobile web edit         171\nwikieditor              157\nvisualeditor             89\nmw-reverted              71\nmw-rollback              33\nadvanced mobile edit     29\nmw-undo                  25\nmobile app edit          17\nmw-manual-revert         14\nName: id, dtype: int64"
     },
     "execution_count": 58,
     "metadata": {},
     "output_type": "execute_result"
    }
   ],
   "source": [
    "tag_counts_sw.head(10)"
   ],
   "metadata": {
    "collapsed": false,
    "ExecuteTime": {
     "end_time": "2023-12-12T15:56:36.438012Z",
     "start_time": "2023-12-12T15:56:36.421042Z"
    }
   },
   "id": "bea9b4cde1799d3b"
  },
  {
   "cell_type": "code",
   "execution_count": 59,
   "outputs": [
    {
     "data": {
      "text/plain": "<Axes: xlabel='tags'>"
     },
     "execution_count": 59,
     "metadata": {},
     "output_type": "execute_result"
    },
    {
     "data": {
      "text/plain": "<Figure size 640x480 with 1 Axes>",
      "image/png": "[encoded data removed]"
     },
     "metadata": {},
     "output_type": "display_data"
    }
   ],
   "source": [
    "tag_counts_sw.head(10).plot.bar()"
   ],
   "metadata": {
    "collapsed": false,
    "ExecuteTime": {
     "end_time": "2023-12-12T15:56:42.447558Z",
     "start_time": "2023-12-12T15:56:42.235487Z"
    }
   },
   "id": "d3054c4548ceaf29"
  },
  {
   "cell_type": "code",
   "execution_count": 62,
   "outputs": [
    {
     "data": {
      "text/plain": "Timedelta('3 days 13:11:28.179921037')"
     },
     "execution_count": 62,
     "metadata": {},
     "output_type": "execute_result"
    }
   ],
   "source": [
    "star_wars_df[\"date\"].diff().mean()"
   ],
   "metadata": {
    "collapsed": false,
    "ExecuteTime": {
     "end_time": "2023-12-12T16:16:23.227507Z",
     "start_time": "2023-12-12T16:16:23.200809Z"
    }
   },
   "id": "354391e4d2ee9726"
  },
  {
   "cell_type": "code",
   "execution_count": 63,
   "outputs": [
    {
     "data": {
      "text/plain": "Timedelta('0 days 22:15:06.223383484')"
     },
     "execution_count": 63,
     "metadata": {},
     "output_type": "execute_result"
    }
   ],
   "source": [
    "lego_df[\"date\"].diff().mean()"
   ],
   "metadata": {
    "collapsed": false,
    "ExecuteTime": {
     "end_time": "2023-12-12T16:16:33.427030Z",
     "start_time": "2023-12-12T16:16:33.405535Z"
    }
   },
   "id": "4bd91c7c18b0cc4a"
  },
  {
   "cell_type": "code",
   "execution_count": 65,
   "outputs": [
    {
     "data": {
      "text/plain": "Timedelta('0 days 00:55:41')"
     },
     "execution_count": 65,
     "metadata": {},
     "output_type": "execute_result"
    }
   ],
   "source": [
    "lego_df[\"date\"].diff().median()"
   ],
   "metadata": {
    "collapsed": false,
    "ExecuteTime": {
     "end_time": "2023-12-12T16:17:07.668979Z",
     "start_time": "2023-12-12T16:17:07.646274Z"
    }
   },
   "id": "68c8fab72a2b645f"
  },
  {
   "cell_type": "code",
   "execution_count": 66,
   "outputs": [
    {
     "data": {
      "text/plain": "Timedelta('185 days 14:01:12')"
     },
     "execution_count": 66,
     "metadata": {},
     "output_type": "execute_result"
    }
   ],
   "source": [
    "lego_df[\"date\"].diff().max()"
   ],
   "metadata": {
    "collapsed": false,
    "ExecuteTime": {
     "end_time": "2023-12-12T16:17:27.077037Z",
     "start_time": "2023-12-12T16:17:27.052627Z"
    }
   },
   "id": "5c2420d5265ce32e"
  },
  {
   "cell_type": "code",
   "execution_count": null,
   "outputs": [],
   "source": [],
   "metadata": {
    "collapsed": false
   },
   "id": "1166a8339943aaf8"
  }
 ],
 "metadata": {
  "kernelspec": {
   "display_name": "Python 3",
   "language": "python",
   "name": "python3"
  },
  "language_info": {
   "codemirror_mode": {
    "name": "ipython",
    "version": 2
   },
   "file_extension": ".py",
   "mimetype": "text/x-python",
   "name": "python",
   "nbconvert_exporter": "python",
   "pygments_lexer": "ipython2",
   "version": "2.7.6"
  }
 },
 "nbformat": 4,
 "nbformat_minor": 5
}
